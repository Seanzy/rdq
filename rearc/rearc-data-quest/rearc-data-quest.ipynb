{
 "cells": [
  {
   "cell_type": "code",
   "execution_count": 1,
   "metadata": {},
   "outputs": [
    {
     "name": "stdout",
     "output_type": "stream",
     "text": [
      "sean\n"
     ]
    }
   ],
   "source": [
    "import json\n",
    "import logging\n",
    "import boto3\n",
    "import os\n",
    "import traceback\n",
    "import urllib3\n",
    "import requests\n",
    "\n",
    "logger = logging.getLogger()\n",
    "logger.setLevel(logging.INFO)\n",
    "\n",
    "def lambda_handler(event, context):\n",
    "    \n",
    "    print(event)\n",
    "    logger.info(event)\n",
    "    \n",
    "    http = urllib3.PoolManager()\n",
    "    s3_client = boto3.client('s3')\n",
    "    BLS_URL = os.getenv(\"BLS_URL\")\n",
    "    \n",
    "    \n",
    "    try:\n",
    "        requests_session = requests.Session()\n",
    "        response = requests_session.get(BLS_URL)\n",
    "        \n",
    "        print(response)\n",
    "        \n",
    "    \n",
    "    except Exception as e:\n",
    "        traceback.print_exc()\n",
    "        # exception_message = \"Error\"\n",
    "        # logger.error(e)\n",
    "    \n",
    "    \n",
    "    return {\n",
    "        'statusCode': 200,\n",
    "        'body': json.dumps('Hello from Lambda!')\n",
    "    }\n"
   ]
  },
  {
   "cell_type": "code",
   "execution_count": null,
   "metadata": {},
   "outputs": [],
   "source": [
    "\"\"\"\n",
    "The parent directory https://download.bls.gov/pub/time.series/ does not always update with the correct last modified date \n",
    "of the subdirectories, see \"sa\" subdirectory as an example, whose most recent last modified date is 2011, not 2010. \n"
   ]
  },
  {
   "cell_type": "code",
   "execution_count": 34,
   "metadata": {},
   "outputs": [
    {
     "name": "stdout",
     "output_type": "stream",
     "text": [
      "<html><head><title>download.bls.gov - /pub/time.series/pr/</title></head><body><H1>download.bls.gov - /pub/time.series/pr/</H1><hr><pre><A HREF=\"/pub/time.series/\">[To Parent Directory]</A><br><br> 12/7/2022  8:30 AM          111 <A HREF=\"/pub/time.series/pr/pr.class\">pr.class</A><br> 9/13/2022  3:52 PM          562 <A HREF=\"/pub/time.series/pr/pr.contacts\">pr.contacts</A><br> 12/7/2022  8:30 AM      1424071 <A HREF=\"/pub/time.series/pr/pr.data.0.Current\">pr.data.0.Current</A><br> 12/7/2022  8:30 AM      3047695 <A HREF=\"/pub/time.series/pr/pr.data.1.AllData\">pr.data.1.AllData</A><br> 12/7/2022  8:30 AM          214 <A HREF=\"/pub/time.series/pr/pr.duration\">pr.duration</A><br> 12/7/2022  8:30 AM           40 <A HREF=\"/pub/time.series/pr/pr.footnote\">pr.footnote</A><br> 12/7/2022  8:30 AM          609 <A HREF=\"/pub/time.series/pr/pr.measure\">pr.measure</A><br>  1/7/1994  2:53 PM          146 <A HREF=\"/pub/time.series/pr/pr.period\">pr.period</A><br>11/18/2011  3:05 PM           79 <A HREF=\"/pub/time.series/pr/pr.seasonal\">pr.seasonal</A><br> 12/7/2022  8:30 AM          263 <A HREF=\"/pub/time.series/pr/pr.sector\">pr.sector</A><br> 12/7/2022  8:30 AM        15657 <A HREF=\"/pub/time.series/pr/pr.series\">pr.series</A><br>11/17/2011  4:11 PM        18343 <A HREF=\"/pub/time.series/pr/pr.txt\">pr.txt</A><br></pre><hr></body></html>\n"
     ]
    },
    {
     "data": {
      "text/plain": [
       "27"
      ]
     },
     "execution_count": 34,
     "metadata": {},
     "output_type": "execute_result"
    }
   ],
   "source": [
    "import pprint as pp\n",
    "txt = '<html><head><title>download.bls.gov - /pub/time.series/pr/</title></head><body><H1>download.bls.gov - /pub/time.series/pr/</H1><hr><pre><A HREF=\"/pub/time.series/\">[To Parent Directory]</A><br><br> 12/7/2022  8:30 AM          111 <A HREF=\"/pub/time.series/pr/pr.class\">pr.class</A><br> 9/13/2022  3:52 PM          562 <A HREF=\"/pub/time.series/pr/pr.contacts\">pr.contacts</A><br> 12/7/2022  8:30 AM      1424071 <A HREF=\"/pub/time.series/pr/pr.data.0.Current\">pr.data.0.Current</A><br> 12/7/2022  8:30 AM      3047695 <A HREF=\"/pub/time.series/pr/pr.data.1.AllData\">pr.data.1.AllData</A><br> 12/7/2022  8:30 AM          214 <A HREF=\"/pub/time.series/pr/pr.duration\">pr.duration</A><br> 12/7/2022  8:30 AM           40 <A HREF=\"/pub/time.series/pr/pr.footnote\">pr.footnote</A><br> 12/7/2022  8:30 AM          609 <A HREF=\"/pub/time.series/pr/pr.measure\">pr.measure</A><br>  1/7/1994  2:53 PM          146 <A HREF=\"/pub/time.series/pr/pr.period\">pr.period</A><br>11/18/2011  3:05 PM           79 <A HREF=\"/pub/time.series/pr/pr.seasonal\">pr.seasonal</A><br> 12/7/2022  8:30 AM          263 <A HREF=\"/pub/time.series/pr/pr.sector\">pr.sector</A><br> 12/7/2022  8:30 AM        15657 <A HREF=\"/pub/time.series/pr/pr.series\">pr.series</A><br>11/17/2011  4:11 PM        18343 <A HREF=\"/pub/time.series/pr/pr.txt\">pr.txt</A><br></pre><hr></body></html>'\n",
    "print(txt)\n",
    "# pp.pprint(txt)\n",
    "txt.index(\"</A>\", 2)\n",
    "txt[150:185]\n",
    "txt.find(\".\", 3)"
   ]
  },
  {
   "cell_type": "code",
   "execution_count": null,
   "metadata": {},
   "outputs": [],
   "source": []
  },
  {
   "cell_type": "code",
   "execution_count": null,
   "metadata": {},
   "outputs": [],
   "source": []
  },
  {
   "cell_type": "code",
   "execution_count": null,
   "metadata": {},
   "outputs": [],
   "source": []
  },
  {
   "cell_type": "code",
   "execution_count": null,
   "metadata": {},
   "outputs": [],
   "source": []
  },
  {
   "cell_type": "code",
   "execution_count": null,
   "metadata": {},
   "outputs": [],
   "source": []
  }
 ],
 "metadata": {
  "kernelspec": {
   "display_name": "Python 3",
   "language": "python",
   "name": "python3"
  },
  "language_info": {
   "codemirror_mode": {
    "name": "ipython",
    "version": 3
   },
   "file_extension": ".py",
   "mimetype": "text/x-python",
   "name": "python",
   "nbconvert_exporter": "python",
   "pygments_lexer": "ipython3",
   "version": "3.8.3"
  }
 },
 "nbformat": 4,
 "nbformat_minor": 4
}
