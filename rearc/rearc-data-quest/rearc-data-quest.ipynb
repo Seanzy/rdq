{
 "cells": [
  {
   "cell_type": "code",
   "execution_count": 17,
   "metadata": {},
   "outputs": [],
   "source": [
    "import json\n",
    "import logging\n",
    "import os\n",
    "import traceback\n",
    "import requests\n",
    "import pprint as pp\n",
    "\n",
    "# API: https://datausa.io/api/data?drilldowns=Nation&measures=Population\n",
    "# Documentation: https://datausa.io/about/api/"
   ]
  },
  {
   "cell_type": "code",
   "execution_count": 10,
   "metadata": {},
   "outputs": [],
   "source": [
    "URL_API = \"https://datausa.io/api/data?drilldowns=Nation&measures=Population\""
   ]
  },
  {
   "cell_type": "code",
   "execution_count": 18,
   "metadata": {},
   "outputs": [
    {
     "name": "stdout",
     "output_type": "stream",
     "text": [
      "('{\"data\":[{\"ID Nation\":\"01000US\",\"Nation\":\"United States\",\"ID '\n",
      " 'Year\":2020,\"Year\":\"2020\",\"Population\":326569308,\"Slug '\n",
      " 'Nation\":\"united-states\"},{\"ID Nation\":\"01000US\",\"Nation\":\"United States\",\"ID '\n",
      " 'Year\":2019,\"Year\":\"2019\",\"Population\":324697795,\"Slug '\n",
      " 'Nation\":\"united-states\"},{\"ID Nation\":\"01000US\",\"Nation\":\"United States\",\"ID '\n",
      " 'Year\":2018,\"Year\":\"2018\",\"Population\":322903030,\"Slug '\n",
      " 'Nation\":\"united-states\"},{\"ID Nation\":\"01000US\",\"Nation\":\"United States\",\"ID '\n",
      " 'Year\":2017,\"Year\":\"2017\",\"Population\":321004407,\"Slug '\n",
      " 'Nation\":\"united-states\"},{\"ID Nation\":\"01000US\",\"Nation\":\"United States\",\"ID '\n",
      " 'Year\":2016,\"Year\":\"2016\",\"Population\":318558162,\"Slug '\n",
      " 'Nation\":\"united-states\"},{\"ID Nation\":\"01000US\",\"Nation\":\"United States\",\"ID '\n",
      " 'Year\":2015,\"Year\":\"2015\",\"Population\":316515021,\"Slug '\n",
      " 'Nation\":\"united-states\"},{\"ID Nation\":\"01000US\",\"Nation\":\"United States\",\"ID '\n",
      " 'Year\":2014,\"Year\":\"2014\",\"Population\":314107084,\"Slug '\n",
      " 'Nation\":\"united-states\"},{\"ID Nation\":\"01000US\",\"Nation\":\"United States\",\"ID '\n",
      " 'Year\":2013,\"Year\":\"2013\",\"Population\":311536594,\"Slug '\n",
      " 'Nation\":\"united-states\"}],\"source\":[{\"measures\":[\"Population\"],\"annotations\":{\"source_name\":\"Census '\n",
      " 'Bureau\",\"source_description\":\"The American Community Survey (ACS) is '\n",
      " 'conducted by the US Census and sent to a portion of the population every '\n",
      " 'year.\",\"dataset_name\":\"ACS 5-year '\n",
      " 'Estimate\",\"dataset_link\":\"http://www.census.gov/programs-surveys/acs/\",\"table_id\":\"B01003\",\"topic\":\"Diversity\",\"subtopic\":\"Demographics\"},\"name\":\"acs_yg_total_population_5\",\"substitutions\":[]}]}')\n"
     ]
    }
   ],
   "source": [
    "requests_session = requests.Session()\n",
    "response = requests_session.get(URL_API)\n",
    "pp.pprint(response.text)\n",
    "\n"
   ]
  },
  {
   "cell_type": "code",
   "execution_count": 1,
   "metadata": {},
   "outputs": [
    {
     "name": "stdout",
     "output_type": "stream",
     "text": [
      "sean\n"
     ]
    }
   ],
   "source": [
    "import json\n",
    "import logging\n",
    "import boto3\n",
    "import os\n",
    "import traceback\n",
    "import urllib3\n",
    "import requests\n",
    "\n",
    "logger = logging.getLogger()\n",
    "logger.setLevel(logging.INFO)\n",
    "\n",
    "def lambda_handler(event, context):\n",
    "    \n",
    "    print(event)\n",
    "    logger.info(event)\n",
    "    \n",
    "    http = urllib3.PoolManager()\n",
    "    s3_client = boto3.client('s3')\n",
    "    BLS_URL = os.getenv(\"BLS_URL\")\n",
    "    \n",
    "    \n",
    "    try:\n",
    "        requests_session = requests.Session()\n",
    "        response = requests_session.get(BLS_URL)\n",
    "        \n",
    "        print(response)\n",
    "        \n",
    "    \n",
    "    except Exception as e:\n",
    "        traceback.print_exc()\n",
    "        # exception_message = \"Error\"\n",
    "        # logger.error(e)\n",
    "    \n",
    "    \n",
    "    return {\n",
    "        'statusCode': 200,\n",
    "        'body': json.dumps('Hello from Lambda!')\n",
    "    }\n"
   ]
  },
  {
   "cell_type": "code",
   "execution_count": null,
   "metadata": {},
   "outputs": [],
   "source": [
    "\"\"\"\n",
    "The parent directory https://download.bls.gov/pub/time.series/ does not always update with the correct last modified date \n",
    "of the subdirectories, see \"sa\" subdirectory as an example, whose most recent last modified date is 2011, not 2010. \n"
   ]
  },
  {
   "cell_type": "code",
   "execution_count": 34,
   "metadata": {},
   "outputs": [
    {
     "name": "stdout",
     "output_type": "stream",
     "text": [
      "<html><head><title>download.bls.gov - /pub/time.series/pr/</title></head><body><H1>download.bls.gov - /pub/time.series/pr/</H1><hr><pre><A HREF=\"/pub/time.series/\">[To Parent Directory]</A><br><br> 12/7/2022  8:30 AM          111 <A HREF=\"/pub/time.series/pr/pr.class\">pr.class</A><br> 9/13/2022  3:52 PM          562 <A HREF=\"/pub/time.series/pr/pr.contacts\">pr.contacts</A><br> 12/7/2022  8:30 AM      1424071 <A HREF=\"/pub/time.series/pr/pr.data.0.Current\">pr.data.0.Current</A><br> 12/7/2022  8:30 AM      3047695 <A HREF=\"/pub/time.series/pr/pr.data.1.AllData\">pr.data.1.AllData</A><br> 12/7/2022  8:30 AM          214 <A HREF=\"/pub/time.series/pr/pr.duration\">pr.duration</A><br> 12/7/2022  8:30 AM           40 <A HREF=\"/pub/time.series/pr/pr.footnote\">pr.footnote</A><br> 12/7/2022  8:30 AM          609 <A HREF=\"/pub/time.series/pr/pr.measure\">pr.measure</A><br>  1/7/1994  2:53 PM          146 <A HREF=\"/pub/time.series/pr/pr.period\">pr.period</A><br>11/18/2011  3:05 PM           79 <A HREF=\"/pub/time.series/pr/pr.seasonal\">pr.seasonal</A><br> 12/7/2022  8:30 AM          263 <A HREF=\"/pub/time.series/pr/pr.sector\">pr.sector</A><br> 12/7/2022  8:30 AM        15657 <A HREF=\"/pub/time.series/pr/pr.series\">pr.series</A><br>11/17/2011  4:11 PM        18343 <A HREF=\"/pub/time.series/pr/pr.txt\">pr.txt</A><br></pre><hr></body></html>\n"
     ]
    },
    {
     "data": {
      "text/plain": [
       "27"
      ]
     },
     "execution_count": 34,
     "metadata": {},
     "output_type": "execute_result"
    }
   ],
   "source": [
    "import pprint as pp\n",
    "txt = '<html><head><title>download.bls.gov - /pub/time.series/pr/</title></head><body><H1>download.bls.gov - /pub/time.series/pr/</H1><hr><pre><A HREF=\"/pub/time.series/\">[To Parent Directory]</A><br><br> 12/7/2022  8:30 AM          111 <A HREF=\"/pub/time.series/pr/pr.class\">pr.class</A><br> 9/13/2022  3:52 PM          562 <A HREF=\"/pub/time.series/pr/pr.contacts\">pr.contacts</A><br> 12/7/2022  8:30 AM      1424071 <A HREF=\"/pub/time.series/pr/pr.data.0.Current\">pr.data.0.Current</A><br> 12/7/2022  8:30 AM      3047695 <A HREF=\"/pub/time.series/pr/pr.data.1.AllData\">pr.data.1.AllData</A><br> 12/7/2022  8:30 AM          214 <A HREF=\"/pub/time.series/pr/pr.duration\">pr.duration</A><br> 12/7/2022  8:30 AM           40 <A HREF=\"/pub/time.series/pr/pr.footnote\">pr.footnote</A><br> 12/7/2022  8:30 AM          609 <A HREF=\"/pub/time.series/pr/pr.measure\">pr.measure</A><br>  1/7/1994  2:53 PM          146 <A HREF=\"/pub/time.series/pr/pr.period\">pr.period</A><br>11/18/2011  3:05 PM           79 <A HREF=\"/pub/time.series/pr/pr.seasonal\">pr.seasonal</A><br> 12/7/2022  8:30 AM          263 <A HREF=\"/pub/time.series/pr/pr.sector\">pr.sector</A><br> 12/7/2022  8:30 AM        15657 <A HREF=\"/pub/time.series/pr/pr.series\">pr.series</A><br>11/17/2011  4:11 PM        18343 <A HREF=\"/pub/time.series/pr/pr.txt\">pr.txt</A><br></pre><hr></body></html>'\n",
    "print(txt)\n",
    "# pp.pprint(txt)\n",
    "txt.index(\"</A>\", 2)\n",
    "txt[150:185]\n",
    "txt.find(\".\", 3)"
   ]
  },
  {
   "cell_type": "code",
   "execution_count": null,
   "metadata": {},
   "outputs": [],
   "source": []
  },
  {
   "cell_type": "code",
   "execution_count": null,
   "metadata": {},
   "outputs": [],
   "source": []
  },
  {
   "cell_type": "code",
   "execution_count": null,
   "metadata": {},
   "outputs": [],
   "source": []
  },
  {
   "cell_type": "code",
   "execution_count": null,
   "metadata": {},
   "outputs": [],
   "source": []
  }
 ],
 "metadata": {
  "kernelspec": {
   "display_name": "Python 3",
   "language": "python",
   "name": "python3"
  },
  "language_info": {
   "codemirror_mode": {
    "name": "ipython",
    "version": 3
   },
   "file_extension": ".py",
   "mimetype": "text/x-python",
   "name": "python",
   "nbconvert_exporter": "python",
   "pygments_lexer": "ipython3",
   "version": "3.8.3"
  }
 },
 "nbformat": 4,
 "nbformat_minor": 4
}
